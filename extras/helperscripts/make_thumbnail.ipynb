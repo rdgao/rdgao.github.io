{
 "cells": [
  {
   "cell_type": "markdown",
   "metadata": {},
   "source": [
    "### This function crops images to be a certain aspect ratio, defined by pixels or aspect ratio, such that all images look uniform in shape in a gallery preview and as blog thumbnail."
   ]
  },
  {
   "cell_type": "code",
   "execution_count": 1,
   "metadata": {},
   "outputs": [],
   "source": [
    "%matplotlib inline\n",
    "import matplotlib.pyplot as plt\n",
    "import cv2\n",
    "import numpy as np\n",
    "import os\n",
    "import resizeimages as ri"
   ]
  },
  {
   "cell_type": "code",
   "execution_count": 11,
   "metadata": {},
   "outputs": [
    {
     "name": "stdout",
     "output_type": "stream",
     "text": [
      "/Users/rdgao/Documents/code/rdgao.github.io/assets/images/projects//thumbnail/tn_nfp2.png\n",
      "/Users/rdgao/Documents/code/rdgao.github.io/assets/images/projects//thumbnail/tn_nfp1.png\n",
      "/Users/rdgao/Documents/code/rdgao.github.io/assets/images/projects//thumbnail/tn_nfp0.png\n",
      "/Users/rdgao/Documents/code/rdgao.github.io/assets/images/projects//thumbnail/tn_org2.png\n",
      "/Users/rdgao/Documents/code/rdgao.github.io/assets/images/projects//thumbnail/tn_org0.png\n",
      "/Users/rdgao/Documents/code/rdgao.github.io/assets/images/projects//thumbnail/tn_org1.png\n",
      "/Users/rdgao/Documents/code/rdgao.github.io/assets/images/projects//thumbnail/tn_cog2.png\n",
      "/Users/rdgao/Documents/code/rdgao.github.io/assets/images/projects//thumbnail/tn_cog0.png\n",
      "/Users/rdgao/Documents/code/rdgao.github.io/assets/images/projects//thumbnail/tn_cog1.png\n"
     ]
    }
   ],
   "source": [
    "img_folders = ['/Users/rdgao/Documents/code/rdgao.github.io/assets/images/projects/',\n",
    "               '/Users/rdgao/Documents/code/rdgao.github.io/assets/images/blog/',\n",
    "               '/Users/rdgao/Documents/code/rdgao.github.io/assets/images/singles/']\n",
    "\n",
    "image_types = ['.jpg', '.png', '.tif', '.gif']\n",
    "\n",
    "resize_option = 'pad' # 'pad' 'crop'\n",
    "resize_unit = 'pixel'#, 'pixel' #aspect\n",
    "target_dim = [500,500] # width, height\n",
    "always_overwrite = True\n",
    "\n",
    "img_folder = '/Users/rdgao/Documents/code/rdgao.github.io/assets/images/projects/'\n",
    "ri.thumbnail_everything(img_folder, [2,1], 'pad', 'aspect', 255, image_types, always_overwrite)\n",
    "\n",
    "# img_folder = '/Users/rdgao/Documents/code/rdgao.github.io/assets/images/blog/'\n",
    "# ri.thumbnail_everything(img_folder, target_dim, resize_option, resize_unit, 0, image_types, always_overwrite)\n",
    "\n",
    "# img_folder = '/Users/rdgao/Documents/code/rdgao.github.io/assets/images/projects/'\n",
    "# ri.thumbnail_everything(img_folder, target_dim, resize_option, resize_unit, 255, image_types, always_overwrite)"
   ]
  },
  {
   "cell_type": "code",
   "execution_count": 2,
   "metadata": {
    "collapsed": true
   },
   "outputs": [],
   "source": [
    "# def return_resized_img(img, target_dim, resize_option, resize_unit='aspect', pad_color=255):\n",
    "#     target_dim = np.flip(np.array(target_dim),0)\n",
    "#     input_dim = np.array(img.shape[:2]).astype(int)\n",
    "#     center_pixel = (0.5*input_dim).astype(int)\n",
    "#     input_ratio = input_dim/input_dim[0]\n",
    "#     output_ratio = target_dim/target_dim[0] # compute aspect ratio based on width (width is always 1)\n",
    "\n",
    "#     if output_ratio[1]>input_ratio[1]:\n",
    "#         # normed output width greater than input width \n",
    "#         if resize_option is 'pad':\n",
    "#             # --> hold height constant & increase width to match output ratio\n",
    "#             output_dim = np.ceil(np.array([input_dim[0],input_dim[0]*output_ratio[1]])).astype(int)\n",
    "#             start_pix = int((output_dim[1]-input_dim[1])/2)\n",
    "#             output_img = pad_color*np.ones((output_dim[0],output_dim[1],3))\n",
    "#             output_img[:,start_pix:start_pix+input_dim[1],:] = img\n",
    "#         elif resize_option is 'crop':\n",
    "#             # --> hold width constant & decrease height to match output ratio\n",
    "#             output_dim = np.ceil(np.array([input_dim[1]/output_ratio[1],input_dim[1]])).astype(int)\n",
    "#             start_pix = int((input_dim[0]-output_dim[0])/2)\n",
    "#             output_img = img[start_pix:start_pix+output_dim[0],:,:]\n",
    "#     else:\n",
    "#         # normed output width less than input width \n",
    "#         if resize_option is 'pad':\n",
    "#             # --> hold width constant & increase height to match output ratio        \n",
    "#             output_dim = np.ceil(np.array([input_dim[1]/output_ratio[1],input_dim[1]])).astype(int)\n",
    "#             start_pix = int((output_dim[0]-input_dim[0])/2)\n",
    "#             output_img = pad_color*np.ones((output_dim[0],output_dim[1],3))\n",
    "#             output_img[start_pix:start_pix+input_dim[0],:,:] = img\n",
    "#         elif resize_option is 'crop':\n",
    "#             # --> hold height constant & decrease width to match output ratio        \n",
    "#             output_dim = np.ceil(np.array([input_dim[0],input_dim[0]*output_ratio[1]])).astype(int)\n",
    "#             start_pix = int((input_dim[1]-output_dim[1])/2)\n",
    "#             output_img = img[:,start_pix:start_pix+output_dim[1],:]\n",
    "    \n",
    "#     if resize_unit is 'aspect':\n",
    "#         return output_img.astype('uint8')\n",
    "#     elif resize_unit is 'pixel':\n",
    "#         return cv2.resize(output_img, dsize=(target_dim[1],target_dim[0])).astype('uint8')\n",
    "    \n",
    "# def is_an_image(img_name, image_types=['.png', '.jpg']):\n",
    "#     is_image = False\n",
    "#     for t in image_types:\n",
    "#         if t in img_name.lower():\n",
    "#             is_image = True\n",
    "#     return is_image\n",
    "\n",
    "# def thumbnail_everything(img_folder, target_dim, resize_option, resize_unit, image_types, always_overwrite):\n",
    "#     # make output folder\n",
    "#     output_folder = img_folder+'/thumbnail/'\n",
    "#     if not os.path.isdir(output_folder):\n",
    "#         os.mkdir(output_folder)\n",
    "#         print('')\n",
    "    \n",
    "#     # grab all image files in folder\n",
    "#     images = [im for im in os.listdir(img_folder) if is_an_image(im, image_types)]\n",
    "#     for img in images:\n",
    "#         # convert\n",
    "#         tn_img = output_folder+'tn_'+img\n",
    "#         if always_overwrite or ~os.path.isfile(tn_img):\n",
    "#             img_mat = cv2.imread(img_folder+img)\n",
    "#             output_img = return_resized_img(img_mat, target_dim, resize_option, resize_unit)\n",
    "#             cv2.imwrite(tn_img, output_img)\n",
    "            "
   ]
  },
  {
   "cell_type": "code",
   "execution_count": null,
   "metadata": {
    "collapsed": true
   },
   "outputs": [],
   "source": []
  }
 ],
 "metadata": {
  "kernelspec": {
   "display_name": "Python 3",
   "language": "python",
   "name": "python3"
  },
  "language_info": {
   "codemirror_mode": {
    "name": "ipython",
    "version": 3
   },
   "file_extension": ".py",
   "mimetype": "text/x-python",
   "name": "python",
   "nbconvert_exporter": "python",
   "pygments_lexer": "ipython3",
   "version": "3.6.3"
  }
 },
 "nbformat": 4,
 "nbformat_minor": 2
}

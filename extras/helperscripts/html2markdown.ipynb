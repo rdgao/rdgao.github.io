{
 "cells": [
  {
   "cell_type": "markdown",
   "metadata": {},
   "source": [
    "### Convert html posts scraped from SquareSpace to markdown syntax\n",
    "and get rid of that ugly doc thing in the process.\n",
    "\n",
    "The conversion fucks up the YAML frontmatter definition, so need to manually save and rewrite those."
   ]
  },
  {
   "cell_type": "code",
   "execution_count": 3,
   "metadata": {
    "collapsed": true
   },
   "outputs": [],
   "source": [
    "import html2text\n",
    "import os\n",
    "import string"
   ]
  },
  {
   "cell_type": "code",
   "execution_count": 10,
   "metadata": {},
   "outputs": [],
   "source": [
    "post_folder = '../SS_export/SS_posts/'\n",
    "export_folder = '../../_posts/SS_posts/'\n",
    "html_files = os.listdir(post_folder)"
   ]
  },
  {
   "cell_type": "code",
   "execution_count": 9,
   "metadata": {},
   "outputs": [
    {
     "name": "stdout",
     "output_type": "stream",
     "text": [
      "../../_posts/SS_posts/2017-02-14-2017-2-14-652-on-cogsci-humility-and-brain-in-a-vat.md\n"
     ]
    },
    {
     "ename": "FileNotFoundError",
     "evalue": "[Errno 2] No such file or directory: '../../SS_export/SS_posts/2017-02-14-2017-2-14-652-on-cogsci-humility-and-brain-in-a-vat.html'",
     "output_type": "error",
     "traceback": [
      "\u001b[0;31m---------------------------------------------------------------------------\u001b[0m",
      "\u001b[0;31mFileNotFoundError\u001b[0m                         Traceback (most recent call last)",
      "\u001b[0;32m<ipython-input-9-7fdc627ad019>\u001b[0m in \u001b[0;36m<module>\u001b[0;34m()\u001b[0m\n\u001b[1;32m      6\u001b[0m \u001b[0;34m\u001b[0m\u001b[0m\n\u001b[1;32m      7\u001b[0m     \u001b[0;31m# read ...\u001b[0m\u001b[0;34m\u001b[0m\u001b[0;34m\u001b[0m\u001b[0m\n\u001b[0;32m----> 8\u001b[0;31m     \u001b[0;32mwith\u001b[0m \u001b[0mopen\u001b[0m\u001b[0;34m(\u001b[0m\u001b[0mfile\u001b[0m\u001b[0;34m,\u001b[0m \u001b[0;34m'r'\u001b[0m\u001b[0;34m)\u001b[0m \u001b[0;32mas\u001b[0m \u001b[0mreadfile\u001b[0m\u001b[0;34m:\u001b[0m\u001b[0;34m\u001b[0m\u001b[0m\n\u001b[0m\u001b[1;32m      9\u001b[0m         \u001b[0mdata\u001b[0m\u001b[0;34m=\u001b[0m\u001b[0mreadfile\u001b[0m\u001b[0;34m.\u001b[0m\u001b[0mread\u001b[0m\u001b[0;34m(\u001b[0m\u001b[0;34m)\u001b[0m\u001b[0;34m\u001b[0m\u001b[0m\n\u001b[1;32m     10\u001b[0m \u001b[0;34m\u001b[0m\u001b[0m\n",
      "\u001b[0;31mFileNotFoundError\u001b[0m: [Errno 2] No such file or directory: '../../SS_export/SS_posts/2017-02-14-2017-2-14-652-on-cogsci-humility-and-brain-in-a-vat.html'"
     ]
    }
   ],
   "source": [
    "for file_ind in range(len(html_files)):\n",
    "    file = post_folder+html_files[file_ind]\n",
    "    new_file = export_folder+html_files[file_ind][:-5]+'.md'\n",
    "    \n",
    "    print(new_file)\n",
    "    \n",
    "    # read ...\n",
    "    with open(file, 'r') as readfile:\n",
    "        data=readfile.read()\n",
    "\n",
    "    # and write...\n",
    "    # first 3 characters is always '---', so just need to find the second instance\n",
    "    yaml_end = data.find('---',1)+3\n",
    "    newdata = '---\\n'+data[data.find('title'):yaml_end] + '\\n\\n' + html2text.html2text(data[yaml_end:])\n",
    "    with open(new_file, \"w\") as writefile:\n",
    "        writefile.write(newdata)\n"
   ]
  },
  {
   "cell_type": "markdown",
   "metadata": {
    "collapsed": true
   },
   "source": [
    "# Find any images used in the post and move it to new folder\n",
    "Could probably just do this manually but why."
   ]
  },
  {
   "cell_type": "code",
   "execution_count": 7,
   "metadata": {},
   "outputs": [
    {
     "data": {
      "text/plain": [
       "['2014-09-11-2014-9-11-seminar-reflection-complementary-learning-systems.md',\n",
       " '2015-07-23-2015-7-22-so-long-robo-rat-overlord-i-hardly-knew-ye.md',\n",
       " '2016-12-26-2016-12-26-dont-be-an-asshole-on-being-a-student-and-teacher-in-higher-education.md',\n",
       " '2016-06-13-2016-6-13-prayers-and-love-to-the-victims-and-their-family-but-only-after-you-get-these-assault-rifles-off-the-streets.md',\n",
       " '2016-03-23-2016-3-23-pslhw8n4im42k6dgc3pknhyuc76twf.md',\n",
       " '2017-03-16-2017-3-16-1052-scientists-discover-how-to-upload-knowledge-to-your-brain.md',\n",
       " '2016-04-24-2016-4-17-c9nbbvo0vij7z1t302zv4m0aenkrho.md',\n",
       " '2014-05-10-2014-5-10-my-biggest-fear-realized.md',\n",
       " '2017-02-07-2017-2-6-552-my-5-butt-words.md',\n",
       " '2017-03-24-2017-3-24-1152-cycles-sublime.md',\n",
       " '2015-10-31-2015-10-31-neuroscience-watching-the-world-series-in-a-room-behind-tall-people.md',\n",
       " '2015-09-22-2015-9-22-abusing-academic-jargons.md',\n",
       " '2014-10-17-2014-10-16-questions-drive-science-why-not-science-class.md',\n",
       " '2017-01-23-2017-1-22-352-can-we-ever-accomplish-non-consensual-brain-reading-part-2.md',\n",
       " 'index.html',\n",
       " '.DS_Store',\n",
       " '2016-05-10-2016-5-10-on-doing-nothing-at-the-dentists.md',\n",
       " '2014-05-18-2014-5-17-cause-and-effect.md',\n",
       " '2014-10-08-2014-10-8-is-human-reasoning-rational.md',\n",
       " '2017-10-16-our-thin-layer-of-existence.md',\n",
       " '2015-09-24-2015-9-15-year-1-part-ii.md',\n",
       " '2017-04-17-2017-4-17-1552-language-beetles-bruce-lee-all-the-light-we-cannot-see.md',\n",
       " '2014-09-22-2014-9-22-my-first-week-in-la-jolla-california.md',\n",
       " '2014-07-12-2014-7-8-rgaoeu2014-packing-list-pre-departures.md',\n",
       " '2014-06-29-2014-6-27-creativity-and-answers.md',\n",
       " '2014-06-22-2014-6-16-book-thoughts-the-fault-in-our-stars.md',\n",
       " '2015-11-14-2015-11-14-in-a-situation-like-this-words-let-alone-hashtags-truly-cannot-capture-how-you-feel.md',\n",
       " '2016-07-09-2016-7-9-w56pkhs605x3mu1agd87dmwg3ogw4m.md',\n",
       " '2014-10-30-2014-10-30-we-suck-at-statistics.md',\n",
       " '2014-08-14-2014-8-10-rgaoeu2014-prologue.md',\n",
       " '2014-06-08-dangerofrationality.md',\n",
       " '2015-09-15-2015-9-8-year-1-part-1.md',\n",
       " '2014-05-27-2014-5-26-fl5oehwotmkpto9eiqfgwwsyau778a.md',\n",
       " '2017-01-30-2017-1-29-452-rome-is-not-built-in-a-day-but-it-sure-falls-quickly.md',\n",
       " '2015-07-02-2015-7-2-redesigning-the-tp.md',\n",
       " '2016-07-08-2016-7-8-8i3nbaxrl6o02k11chq66xk1spkjwj.md',\n",
       " '2014-06-06-2014-6-5-project-photoorganiser-pt1.md',\n",
       " '2017-01-08-2017-1-5-152-challenge-accepted.md',\n",
       " '2017-05-01-2017-5-1-1752-climate-of-complete-certainty.md',\n",
       " '2015-11-05-2015-11-5-the-most-important-thing-you-will-read-about-science-today.md',\n",
       " '2015-03-31-2015-3-31-getting-back-on-the-horse.md',\n",
       " '2014-05-17-2014-5-17-review-traditional-chinese-medicine-in-science.md',\n",
       " '2016-01-10-2016-1-4-how-to-be-funny-on-yelp-my-wife-and-i-hate-this-place.md',\n",
       " '2014-10-25-2014-10-25-who-came-first-the-chicken-or-the-egg.md',\n",
       " '2017-05-07-2017-5-6-1852-should-all-science-have-implications.md',\n",
       " '2014-08-10-2014-8-9-rgaoeu2014-aftermath.md',\n",
       " '2017-05-15-2017-5-15-1952-on-arrival-sapir-whorf-and-reading-fiction.md',\n",
       " '2016-01-07-2016-1-6-keeping-the-wolf-from-the-door.md',\n",
       " '2015-08-27-2015-8-26-untitled.md',\n",
       " '2017-9-18-first-research-paper-published.md',\n",
       " '2017-05-30-combatting-bias-in-science.md',\n",
       " '2017-04-09-2017-4-9-1452-the-life-of-a-ta.md',\n",
       " '2017-03-27-2017-3-26-rtrlcn80eo36vlupfhqljoqoj6c040.md',\n",
       " '2014-10-16-2014-10-15-the-importance-of-language-in-reasoning.md',\n",
       " '2014-09-08-2014-8-27-3-essential-apps-for-backpacking.md',\n",
       " '2017-01-15-2017-1-14-252-can-we-ever-accomplish-nonconsensual-brain-reading.md',\n",
       " '2014-08-25-2014-8-25-rgaoeu2014-bcn.md',\n",
       " '2015-07-30-2015-7-28-you-dont-know-what-foodporn-is.md',\n",
       " '2017-02-14-2017-2-14-652-on-cogsci-humility-and-brain-in-a-vat.md',\n",
       " '2017-05-01-2017-5-1-1652-march-for-science.md',\n",
       " '2015-09-26-2015-9-26-egqixz8rzhxgaimbludnrtmybmoiqu.md',\n",
       " '2015-08-29-2015-8-29-see-no-evil.md',\n",
       " '2014-06-02-2014-6-2-we-are-the-10.md',\n",
       " '2017-02-20-2017-2-20-752-how-many-clipping-actions-do-you-require-to-complete-one-fingernail-clipping-session.md',\n",
       " '2018-01-16-year-3-and-a-half.md',\n",
       " '2016-04-14-2016-4-14-8df9t5x8h30h5i09hwzozllk4ogibh.md',\n",
       " '2015-08-24-2015-8-24-i-go-to-the-church-of-physics.md',\n",
       " '2014-05-01-2014-5-1-moving-forward.md',\n",
       " '2016-09-17-2016-9-17-year-2.md',\n",
       " '2014-11-30-2014-11-30-dont-worry-be-being-happy.md',\n",
       " '2014-07-03-2014-6-29-the-evolution-of-the-san-antonio-spurs.md',\n",
       " '2017-06-12-what-is-the-hardest-scientific-endeavor-of-all-answer-neuroscience.md',\n",
       " '2016-04-06-2016-4-6-ta5qz1uzk80086by4wd64luv49bt9y.md',\n",
       " '2017-04-03-2017-3-5-1352-what-even-is-cogsci.md',\n",
       " '2017-08-26-the-most-incredible-and-awe-inspiring-thing-ive-seen.md',\n",
       " '2017-06-05-the-disease-of-productivity-mindful-dishwashing.md',\n",
       " '2017-02-26-2017-2-13-852-science-as-a-belief-system.md',\n",
       " '2017-03-05-2017-3-5-952-dont-compare-your-mile-1-to-someone-elses-finish-line.md',\n",
       " '2017-05-20-how-good-theory-in-neuroscience-can-avert-the-reproducibility-crisis.md']"
      ]
     },
     "execution_count": 7,
     "metadata": {},
     "output_type": "execute_result"
    }
   ],
   "source": [
    "post_folder = '../../_posts/'\n",
    "posts = os.listdir(post_folder)\n",
    "posts"
   ]
  },
  {
   "cell_type": "code",
   "execution_count": null,
   "metadata": {
    "collapsed": true
   },
   "outputs": [],
   "source": []
  }
 ],
 "metadata": {
  "kernelspec": {
   "display_name": "Python 3",
   "language": "python",
   "name": "python3"
  },
  "language_info": {
   "codemirror_mode": {
    "name": "ipython",
    "version": 3
   },
   "file_extension": ".py",
   "mimetype": "text/x-python",
   "name": "python",
   "nbconvert_exporter": "python",
   "pygments_lexer": "ipython3",
   "version": "3.6.3"
  }
 },
 "nbformat": 4,
 "nbformat_minor": 2
}

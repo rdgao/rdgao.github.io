{
 "cells": [
  {
   "cell_type": "code",
   "execution_count": 13,
   "metadata": {},
   "outputs": [
    {
     "name": "stdout",
     "output_type": "stream",
     "text": [
      "Padding complete!\n"
     ]
    }
   ],
   "source": [
    "from PIL import Image, ImageOps\n",
    "import os\n",
    "\n",
    "# Define the folder with the images\n",
    "input_folder = \".\"\n",
    "output_folder = \"./resized/\"\n",
    "\n",
    "# Create the output folder if it doesn't exist\n",
    "os.makedirs(output_folder, exist_ok=True)\n",
    "\n",
    "# Define target aspect ratio (800:500)\n",
    "target_aspect_ratio = 800 / 500\n",
    "\n",
    "# Loop through each image in the folder\n",
    "for filename in os.listdir(input_folder):\n",
    "    if filename.endswith(('.png', '.jpg', '.jpeg', '.bmp', '.gif')):\n",
    "        img_path = os.path.join(input_folder, filename)\n",
    "        \n",
    "        # Open the image\n",
    "        with Image.open(img_path) as img:\n",
    "            original_width, original_height = img.size\n",
    "            original_aspect_ratio = original_width / original_height\n",
    "\n",
    "            # Determine if padding needs to be added to the sides or top/bottom\n",
    "            if original_aspect_ratio > target_aspect_ratio:\n",
    "                # Image is wider than the target aspect ratio\n",
    "                new_height = int(original_width / target_aspect_ratio)\n",
    "                padding = (0, (new_height - original_height) // 2)\n",
    "            else:\n",
    "                # Image is taller than the target aspect ratio\n",
    "                new_width = int(original_height * target_aspect_ratio)\n",
    "                padding = ((new_width - original_width) // 2, 0)\n",
    "\n",
    "            # Add white padding to achieve the desired aspect ratio\n",
    "            padded_img = ImageOps.expand(img, padding, (255, 255, 255))\n",
    "\n",
    "            # Save the padded image to the output folder (keeping original dimensions)\n",
    "            output_path = os.path.join(output_folder, filename)\n",
    "            padded_img.save(output_path)\n",
    "\n",
    "print(\"Padding complete!\")"
   ]
  },
  {
   "cell_type": "code",
   "execution_count": null,
   "metadata": {},
   "outputs": [],
   "source": []
  }
 ],
 "metadata": {
  "kernelspec": {
   "display_name": "firehose",
   "language": "python",
   "name": "python3"
  },
  "language_info": {
   "codemirror_mode": {
    "name": "ipython",
    "version": 3
   },
   "file_extension": ".py",
   "mimetype": "text/x-python",
   "name": "python",
   "nbconvert_exporter": "python",
   "pygments_lexer": "ipython3",
   "version": "3.12.2"
  }
 },
 "nbformat": 4,
 "nbformat_minor": 2
}
